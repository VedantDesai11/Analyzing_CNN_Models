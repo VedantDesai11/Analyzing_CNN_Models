{
  "nbformat": 4,
  "nbformat_minor": 0,
  "metadata": {
    "colab": {
      "name": "TestingCNNModels",
      "provenance": [],
      "collapsed_sections": [],
      "mount_file_id": "1vazkZ8mRkrvqHEN4fgVPOKFK4g_9Vb1R",
      "authorship_tag": "ABX9TyPxcKXQmkCIXBG77fzvhjQF",
      "include_colab_link": true
    },
    "kernelspec": {
      "name": "python3",
      "display_name": "Python 3"
    },
    "accelerator": "TPU"
  },
  "cells": [
    {
      "cell_type": "markdown",
      "metadata": {
        "id": "view-in-github",
        "colab_type": "text"
      },
      "source": [
        "<a href=\"https://colab.research.google.com/github/VedantDesai11/Analyzing_CNN_Models/blob/master/TestingCNNModels.ipynb\" target=\"_parent\"><img src=\"https://colab.research.google.com/assets/colab-badge.svg\" alt=\"Open In Colab\"/></a>"
      ]
    },
    {
      "cell_type": "code",
      "metadata": {
        "id": "uYk2EmW_skSY",
        "colab_type": "code",
        "colab": {}
      },
      "source": [
        "import keras\n",
        "import tensorflow\n",
        "from keras.datasets import cifar10\n",
        "from keras.models import Sequential\n",
        "from keras.layers import Dense,Dropout,Flatten,Conv2D, MaxPool2D\n",
        "from keras.callbacks import TensorBoard, EarlyStopping, History\n",
        "import numpy as np\n",
        "import matplotlib.pyplot as pl"
      ],
      "execution_count": 14,
      "outputs": []
    },
    {
      "cell_type": "code",
      "metadata": {
        "id": "Z7HAcLTUsrGA",
        "colab_type": "code",
        "colab": {}
      },
      "source": [
        "# List of names for each CIFAR10 class\n",
        "cifar10_class_names = {\n",
        "    0: \"Plane\",\n",
        "    1: \"Car\",\n",
        "    2: \"Bird\",\n",
        "    3: \"Cat\",\n",
        "    4: \"Deer\",\n",
        "    5: \"Dog\",\n",
        "    6: \"Frog\",\n",
        "    7: \"Horse\",\n",
        "    8: \"Boat\",\n",
        "    9: \"Truck\"\n",
        "}\n",
        "\n",
        "# Load the entire data set\n",
        "(x_train, y_train), (x_test, y_test) = cifar10.load_data()\n",
        "\n",
        "x_train = x_train.astype(\"float32\")\n",
        "x_test = x_test.astype(\"float32\")\n",
        "x_train = x_train / 255\n",
        "x_test = x_test / 255\n",
        "\n",
        "y_train = keras.utils.to_categorical(y_train, 10)\n",
        "y_test = keras.utils.to_categorical(y_test, 10)"
      ],
      "execution_count": 15,
      "outputs": []
    },
    {
      "cell_type": "code",
      "metadata": {
        "id": "0fRqBniRs9vJ",
        "colab_type": "code",
        "colab": {
          "base_uri": "https://localhost:8080/",
          "height": 102
        },
        "outputId": "df4eeb38-8aee-40d3-8871-b27e388b72da"
      },
      "source": [
        "layer_sizes = [128]\n",
        "dropout = 0.25\n",
        "lr = 0.01\n",
        "number_of_conv_layers = [0,3]\n",
        "number_of_dense_layers = [1,2]\n",
        "decreasing = [True, False]\n",
        "\n",
        "model_number = 0\n",
        "\n",
        "for layer_size in layer_sizes:\n",
        "    for conv_layer in number_of_conv_layers:\n",
        "        for dense_layer in number_of_dense_layers:\n",
        "\n",
        "                model_number += 1\n",
        "                NAME = \"{}-Conv2D={}x{}-Dense={}x{}-dropout={}-LearningRate={}\".format(model_number, conv_layer, layer_size, dense_layer, layer_size, dropout, lr)\n",
        "\n",
        "                # initialize tensorboard callback\n",
        "                tensorboard = TensorBoard(log_dir=\"/content/logs/{}\".format(NAME))\n",
        "\n",
        "                # initialize earlystopping callback\n",
        "                earlystopping = EarlyStopping(monitor='val_accuracy', mode='auto', patience=3)\n",
        "\n",
        "                # model name\n",
        "                print(NAME)\n",
        "                \n",
        "                # create model and add layers\n",
        "                model = Sequential()\n",
        "\n",
        "                if conv_layer == 0:\n",
        "                    model.add(Flatten())\n",
        "                    if dense_layer == 1:\n",
        "                        model.add(Dense(layer_size, activation='relu', input_shape=(32,32,3)))\n",
        "                        model.add(Dropout(dropout))\n",
        "\n",
        "                    else:\n",
        "                        model.add(Dense(layer_size, activation='relu', input_shape=(32,32,3)))\n",
        "                        model.add(Dropout(dropout))\n",
        "\n",
        "                        model.add(Dense(layer_size, activation='relu'))\n",
        "                        model.add(Dropout(dropout))\n",
        "\n",
        "                else: \n",
        "                    if dense_layer == 1:\n",
        "                        model.add(Conv2D(layer_size, (3,3), activation='relu', input_shape=(32,32,3)))\n",
        "                        model.add(MaxPool2D(pool_size=(2,2)))\n",
        "                        model.add(Dropout(dropout))\n",
        "\n",
        "                        model.add(Conv2D(layer_size, (3,3), padding='same', activation='relu'))\n",
        "                        model.add(MaxPool2D(pool_size=(2,2)))\n",
        "                        model.add(Dropout(dropout))\n",
        "\n",
        "                        model.add(Conv2D(layer_size, (3,3), padding='same', activation='relu'))\n",
        "                        model.add(MaxPool2D(pool_size=(2,2)))\n",
        "                        model.add(Dropout(dropout))\n",
        "\n",
        "                        model.add(Dense(layer_size, activation='relu'))\n",
        "                        model.add(Dropout(dropout))\n",
        "                    else:\n",
        "                        model.add(Conv2D(layer_size, (3,3), activation='relu', input_shape=(32,32,3)))\n",
        "                        model.add(MaxPool2D(pool_size=(2,2)))\n",
        "                        model.add(Dropout(dropout))\n",
        "\n",
        "                        model.add(Conv2D(layer_size, (3,3), padding='same', activation='relu'))\n",
        "                        model.add(MaxPool2D(pool_size=(2,2)))\n",
        "                        model.add(Dropout(dropout))\n",
        "\n",
        "                        model.add(Conv2D(layer_size, (3,3), padding='same', activation='relu'))\n",
        "                        model.add(MaxPool2D(pool_size=(2,2)))\n",
        "                        model.add(Dropout(dropout))\n",
        "\n",
        "                        model.add(Dense(layer_size, activation='relu'))\n",
        "                        model.add(Dropout(dropout))\n",
        "\n",
        "                        model.add(Dense(layer_size, activation='relu'))\n",
        "                        model.add(Dropout(dropout))\n",
        "\n",
        "                    model.add(Flatten())\n",
        "\n",
        "                # Output layer\n",
        "                model.add(Dense(10, activation='softmax'))\n",
        "\n",
        "                model.compile(\n",
        "                    optimizer=keras.optimizers.Adam(learning_rate=lr),\n",
        "                    loss='categorical_crossentropy',\n",
        "                    metrics=['accuracy']\n",
        "                )\n",
        "\n",
        "                results = model.fit(\n",
        "                    x_train,\n",
        "                    y_train,\n",
        "                    verbose=0,\n",
        "                    batch_size=1000,\n",
        "                    epochs=20,\n",
        "                    validation_data=(x_test, y_test),\n",
        "                    callbacks = [tensorboard, earlystopping]\n",
        "                )\n",
        "\n",
        "                print(\"----------------------------------------------------------------------\")"
      ],
      "execution_count": null,
      "outputs": [
        {
          "output_type": "stream",
          "text": [
            "1-Conv2D=0x128-Dense=1x128-dropout=0.25-LearningRate=0.01\n",
            "----------------------------------------------------------------------\n",
            "2-Conv2D=0x128-Dense=2x128-dropout=0.25-LearningRate=0.01\n",
            "----------------------------------------------------------------------\n",
            "3-Conv2D=3x128-Dense=1x128-dropout=0.25-LearningRate=0.01\n"
          ],
          "name": "stdout"
        }
      ]
    },
    {
      "cell_type": "code",
      "metadata": {
        "id": "aVfcUtvh1SN9",
        "colab_type": "code",
        "colab": {}
      },
      "source": [
        "%load_ext tensorboard\n",
        "%tensorboard --logdir logs"
      ],
      "execution_count": null,
      "outputs": []
    }
  ]
}